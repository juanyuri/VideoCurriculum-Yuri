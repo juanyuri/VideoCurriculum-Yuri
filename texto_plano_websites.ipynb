{
 "cells": [
  {
   "cell_type": "code",
   "execution_count": 17,
   "metadata": {},
   "outputs": [],
   "source": [
    "empresas = dict()\n",
    "\n",
    "empresas['Bahia Software'] = 'https://bahiasoftware.es/bahia-software'\n",
    "empresas['Alia Whyus'] = 'https://alialabs.com/whyus'\n",
    "empresas['Alia'] = 'https://alialabs.com/'\n",
    "empresas['Excelia About Us'] = 'https://excelia.com/about-us'\n",
    "empresas['Excelia '] = 'https://excelia.com/servicio/Software-Development'\n",
    "empresas['NTT DATA'] = 'https://es.nttdata.com/services/application-services'\n",
    "empresas['Innebo'] = 'https://innebo.es/nosotros/'\n",
    "empresas['Plexus'] = 'https://www.plexus.es/unete-al-equipo/'\n",
    "empresas['Ideit SL'] = 'https://ideit.es/productos/desarrollo-web/comercio-electronico/' #este ya trae la nube\n",
    "empresas['Aldaba'] = 'https://www.aldaba.es/d/en/index.html#1'\n",
    "empresas['Altia'] = 'https://www.altia.es/es/tecnologia'\n",
    "empresas['Spica Homepage'] = 'https://spica.es/nosotros/'\n",
    "empresas['Spica Desarrollo'] = 'https://spica.es/seneca-video-actas/'\n",
    "empresas['ContactNova'] = 'https://www.contactnova.com/tecnologias.php'\n",
    "empresas['SDG homepage'] = 'https://www.sdggroup.com/es-ES'\n",
    "empresas['SDG about us'] = 'https://www.sdggroup.com/es-ES/about-us/sdg'\n",
    "empresas['SDG analytics'] = 'https://www.sdggroup.com/es-ES/practices/advanced-analytics'\n",
    "empresas['Imatia about us'] = 'https://www.imatia.com/sobre-imatia/' \n",
    "empresas['Imatia mineria'] = 'https://www.imatia.com/soluciones/mineria'\n",
    "empresas['Imatia desarrollo'] = 'https://www.imatia.com/servicios/desarrollo'\n",
    "#empresas['Indra Ciberseguridad'] = 'https://www.indracompany.com/es/cyberdefence'\n",
    "#empresas['Indra Trabajos'] = 'https://www.indraempleo.com/es/employment?search=Inform%C3%A1tica&place=All&experience=All&sort_by=created&sort_order=DESC'\n",
    "empresas['Edisa homepage'] = 'https://www.edisa.com/'\n",
    "\n",
    "#empresas['Conexiona Telecom'] = 'https://conexiona.com/tecnologia-4-0-para-hacer-sombra-a-la-competencia/'\n",
    "#empresas['Possible Incorporated'] = 'https://www.possibleinc.com/'\n",
    "#empresas['Possible Services'] = 'https://www.possibleinc.com/it-services/'"
   ]
  },
  {
   "cell_type": "code",
   "execution_count": 18,
   "metadata": {},
   "outputs": [],
   "source": [
    "from bs4 import BeautifulSoup\n",
    "from bs4.element import Comment\n",
    "import urllib.request"
   ]
  },
  {
   "cell_type": "code",
   "execution_count": 19,
   "metadata": {},
   "outputs": [],
   "source": [
    "def tag_visible(element):\n",
    "    if element.parent.name in ['style', 'script', 'head', 'title', 'meta', '[document]', 'footer', 'nav', 'header']:\n",
    "        return False\n",
    "    if isinstance(element, Comment):\n",
    "        return False\n",
    "    return True\n",
    "\n",
    "\n",
    "def text_from_html(body):\n",
    "    soup = BeautifulSoup(body, 'html.parser')\n",
    "    texts = soup.findAll(text=True)\n",
    "    visible_texts = filter(tag_visible, texts)  \n",
    "    return \" \".join(t.strip() for t in visible_texts)"
   ]
  },
  {
   "cell_type": "code",
   "execution_count": 20,
   "metadata": {},
   "outputs": [],
   "source": [
    "idx = 0\n",
    "for empresa, direccion in empresas.items():\n",
    "    html = urllib.request.urlopen(direccion).read()\n",
    "    text_website = text_from_html(html)\n",
    "    idx += 1\n",
    "    with open('output_text/' + str(idx) + '_' + empresa + '.txt', 'w') as f:\n",
    "        f.write(text_website)"
   ]
  }
 ],
 "metadata": {
  "kernelspec": {
   "display_name": "spyder-cf",
   "language": "python",
   "name": "python3"
  },
  "language_info": {
   "codemirror_mode": {
    "name": "ipython",
    "version": 3
   },
   "file_extension": ".py",
   "mimetype": "text/x-python",
   "name": "python",
   "nbconvert_exporter": "python",
   "pygments_lexer": "ipython3",
   "version": "3.10.6"
  },
  "orig_nbformat": 4,
  "vscode": {
   "interpreter": {
    "hash": "a550b6568966caf7d6277500ab181e67437c0808e1cb0b4f83fd8665fb92f9a4"
   }
  }
 },
 "nbformat": 4,
 "nbformat_minor": 2
}
